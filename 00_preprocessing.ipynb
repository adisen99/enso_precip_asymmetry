{
 "cells": [
  {
   "cell_type": "code",
   "execution_count": 1,
   "id": "b9933b12-a480-48a1-a348-0452ffe97503",
   "metadata": {
    "tags": []
   },
   "outputs": [],
   "source": [
    "from PhD.enso_precip_asymmetry.util.preprocess import preproc\n",
    "# from PhD.enso_precip_asymmetry.util.base_preprocess import preproc_base"
   ]
  },
  {
   "cell_type": "code",
   "execution_count": 2,
   "id": "ef1c9e9f-d641-416e-8220-be7bbc644ee6",
   "metadata": {
    "tags": []
   },
   "outputs": [],
   "source": [
    "import os"
   ]
  },
  {
   "cell_type": "code",
   "execution_count": 3,
   "id": "68975948-1ea0-4316-8b06-46b15d48ed05",
   "metadata": {
    "tags": []
   },
   "outputs": [
    {
     "data": {
      "text/plain": [
       "['ACCESS-CM2',\n",
       " 'ACCESS-ESM1-5',\n",
       " 'AWI-CM-1-1-MR',\n",
       " 'CESM2',\n",
       " 'CESM2-WACCM',\n",
       " 'CMCC-CM2-SR5',\n",
       " 'CNRM-CM6-1',\n",
       " 'CNRM-CM6-1-HR',\n",
       " 'CNRM-ESM2-1',\n",
       " 'CanESM5',\n",
       " 'E3SM-1-1',\n",
       " 'EC-Earth3',\n",
       " 'EC-Earth3-Veg-LR',\n",
       " 'FIO-ESM-2-0',\n",
       " 'GFDL-CM4',\n",
       " 'GFDL-ESM4',\n",
       " 'INM-CM4-8',\n",
       " 'INM-CM5-0',\n",
       " 'IPSL-CM6A-LR',\n",
       " 'KACE-1-0-G',\n",
       " 'MIROC-ES2L',\n",
       " 'MIROC6',\n",
       " 'MPI-ESM1-2-HR',\n",
       " 'MPI-ESM1-2-LR',\n",
       " 'MRI-ESM2-0',\n",
       " 'NESM3',\n",
       " 'NorESM2-LM',\n",
       " 'NorESM2-MM',\n",
       " 'TaiESM1',\n",
       " 'UKESM1-0-LL']"
      ]
     },
     "execution_count": 3,
     "metadata": {},
     "output_type": "execute_result"
    }
   ],
   "source": [
    "model_list = sorted(os.listdir('/scratch/ob22/as8561/data/preproc/'))[1:-2]\n",
    "model_list"
   ]
  },
  {
   "cell_type": "code",
   "execution_count": 4,
   "id": "aad41e98-7e47-4cf9-8be3-29761e387b7d",
   "metadata": {
    "tags": []
   },
   "outputs": [
    {
     "name": "stdout",
     "output_type": "stream",
     "text": [
      "Completed ACCESS-CM2\n",
      "Completed ACCESS-ESM1-5\n",
      "Completed AWI-CM-1-1-MR\n",
      "Completed CESM2\n",
      "Completed CESM2-WACCM\n",
      "Completed CMCC-CM2-SR5\n",
      "Completed CNRM-CM6-1\n",
      "Completed CNRM-CM6-1-HR\n",
      "Completed CNRM-ESM2-1\n",
      "Completed CanESM5\n",
      "Completed E3SM-1-1\n",
      "Completed EC-Earth3\n",
      "Completed EC-Earth3-Veg-LR\n",
      "Completed FIO-ESM-2-0\n",
      "Completed GFDL-CM4\n",
      "Completed GFDL-ESM4\n",
      "Completed INM-CM4-8\n",
      "Completed INM-CM5-0\n",
      "Completed IPSL-CM6A-LR\n",
      "Completed KACE-1-0-G\n",
      "Completed MIROC-ES2L\n",
      "Completed MIROC6\n",
      "Completed MPI-ESM1-2-HR\n",
      "Completed MPI-ESM1-2-LR\n",
      "Completed MRI-ESM2-0\n",
      "Completed NESM3\n",
      "Completed NorESM2-LM\n",
      "Completed NorESM2-MM\n",
      "Completed TaiESM1\n",
      "Completed UKESM1-0-LL\n"
     ]
    }
   ],
   "source": [
    "preproc(model_list)"
   ]
  },
  {
   "cell_type": "code",
   "execution_count": null,
   "id": "f001b60d-1a32-4442-bff0-a9a696d38305",
   "metadata": {},
   "outputs": [],
   "source": []
  },
  {
   "cell_type": "code",
   "execution_count": null,
   "id": "26d92c26-72a9-4cf8-bf01-5fac978e0b7b",
   "metadata": {},
   "outputs": [],
   "source": []
  }
 ],
 "metadata": {
  "kernelspec": {
   "display_name": "Python 3 (ipykernel)",
   "language": "python",
   "name": "python3"
  },
  "language_info": {
   "codemirror_mode": {
    "name": "ipython",
    "version": 3
   },
   "file_extension": ".py",
   "mimetype": "text/x-python",
   "name": "python",
   "nbconvert_exporter": "python",
   "pygments_lexer": "ipython3",
   "version": "3.9.17"
  }
 },
 "nbformat": 4,
 "nbformat_minor": 5
}
