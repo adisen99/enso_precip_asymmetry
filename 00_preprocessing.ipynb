{
 "cells": [
  {
   "cell_type": "code",
   "execution_count": 1,
   "id": "35e834ff",
   "metadata": {},
   "outputs": [],
   "source": [
    "import warnings\n",
    "warnings.filterwarnings('ignore')"
   ]
  },
  {
   "cell_type": "code",
   "execution_count": 2,
   "id": "fd312a3c",
   "metadata": {},
   "outputs": [],
   "source": [
    "from util.preprocess import preproc\n",
    "from util.preprocess_large_ensemble import preproc_le\n",
    "# from PhD.enso_precip_asymmetry.util.base_preprocess import preproc_base"
   ]
  },
  {
   "cell_type": "code",
   "execution_count": 3,
   "id": "ef1c9e9f-d641-416e-8220-be7bbc644ee6",
   "metadata": {
    "tags": []
   },
   "outputs": [],
   "source": [
    "import os"
   ]
  },
  {
   "cell_type": "code",
   "execution_count": 4,
   "id": "68975948-1ea0-4316-8b06-46b15d48ed05",
   "metadata": {
    "tags": []
   },
   "outputs": [],
   "source": [
    "model_list = sorted(os.listdir('/scratch/ob22/as8561/data/preproc/'))[1:-2]\n",
    "# model_list, len(model_list)"
   ]
  },
  {
   "cell_type": "code",
   "execution_count": 5,
   "id": "3fa12e43",
   "metadata": {},
   "outputs": [
    {
     "data": {
      "text/plain": [
       "(['IITM-ESM',\n",
       "  'CAMS-CSM1-0',\n",
       "  'NorCPM1',\n",
       "  'CAS-ESM2-0',\n",
       "  'SAM0-UNICON',\n",
       "  'GISS-E2-1-H',\n",
       "  'GISS-E2-1-G',\n",
       "  'MCM-UA-1-0',\n",
       "  'BCC-CSM2-MR',\n",
       "  'BCC-ESM1'],\n",
       " 10)"
      ]
     },
     "execution_count": 5,
     "metadata": {},
     "output_type": "execute_result"
    }
   ],
   "source": [
    "new_model_list = ['IITM-ESM', 'CAMS-CSM1-0', 'NorCPM1', 'CAS-ESM2-0', 'SAM0-UNICON', 'GISS-E2-1-H', 'GISS-E2-1-G', 'MCM-UA-1-0', 'BCC-CSM2-MR', 'BCC-ESM1']\n",
    "new_model_list, len(new_model_list)"
   ]
  },
  {
   "cell_type": "code",
   "execution_count": 10,
   "id": "0d1285fc",
   "metadata": {},
   "outputs": [
    {
     "data": {
      "text/plain": [
       "(['AWI-ESM-1-1-LR',\n",
       "  'CESM2-FV2',\n",
       "  'CESM2-WACCM-FV2',\n",
       "  'CMCC-CM2-HR4',\n",
       "  'E3SM-1-1-ECA',\n",
       "  'EC-Earth3-Veg',\n",
       "  'FGOALS-f3-L',\n",
       "  'FGOALS-g3',\n",
       "  'GISS-E2-1-G-CC',\n",
       "  'HadGEM3-GC31-LL',\n",
       "  'HadGEM3-GC31-MM',\n",
       "  'MPI-ESM-1-2-HAM'],\n",
       " 12)"
      ]
     },
     "execution_count": 10,
     "metadata": {},
     "output_type": "execute_result"
    }
   ],
   "source": [
    "new_model_list2 = ['AWI-ESM-1-1-LR', 'CESM2-FV2', 'CESM2-WACCM-FV2', 'CMCC-CM2-HR4', 'E3SM-1-1-ECA', 'EC-Earth3-Veg', 'FGOALS-f3-L', 'FGOALS-g3', \\\n",
    "                   'GISS-E2-1-G-CC', 'HadGEM3-GC31-LL', 'HadGEM3-GC31-MM', 'MPI-ESM-1-2-HAM']\n",
    "new_model_list2, len(new_model_list2)\n"
   ]
  },
  {
   "cell_type": "code",
   "execution_count": 11,
   "id": "aad41e98-7e47-4cf9-8be3-29761e387b7d",
   "metadata": {
    "tags": []
   },
   "outputs": [
    {
     "name": "stdout",
     "output_type": "stream",
     "text": [
      "Completed AWI-ESM-1-1-LR\n",
      "Completed CESM2-FV2\n",
      "Completed CESM2-WACCM-FV2\n",
      "Completed CMCC-CM2-HR4\n",
      "Completed E3SM-1-1-ECA\n",
      "Completed EC-Earth3-Veg\n",
      "Completed FGOALS-f3-L\n",
      "Completed FGOALS-g3\n",
      "Completed GISS-E2-1-G-CC\n",
      "Completed HadGEM3-GC31-LL\n",
      "Completed HadGEM3-GC31-MM\n",
      "Completed MPI-ESM-1-2-HAM\n"
     ]
    }
   ],
   "source": [
    "preproc(new_model_list2)"
   ]
  },
  {
   "cell_type": "code",
   "execution_count": 5,
   "id": "3aece836",
   "metadata": {},
   "outputs": [],
   "source": [
    "import pandas as pd"
   ]
  },
  {
   "cell_type": "code",
   "execution_count": 11,
   "id": "946359d3",
   "metadata": {},
   "outputs": [
    {
     "data": {
      "text/plain": [
       "array(['r10i1p1f1', 'r10i1p2f1', 'r11i1p1f1', 'r11i1p2f1', 'r12i1p1f1',\n",
       "       'r12i1p2f1', 'r13i1p1f1', 'r13i1p2f1', 'r14i1p1f1', 'r14i1p2f1',\n",
       "       'r15i1p1f1', 'r15i1p2f1', 'r16i1p1f1', 'r16i1p2f1', 'r17i1p1f1',\n",
       "       'r17i1p2f1', 'r18i1p1f1', 'r18i1p2f1', 'r19i1p1f1', 'r19i1p2f1',\n",
       "       'r1i1p1f1', 'r1i1p1f1', 'r1i1p2f1', 'r20i1p1f1', 'r20i1p2f1',\n",
       "       'r21i1p1f1', 'r21i1p2f1', 'r22i1p1f1', 'r22i1p2f1', 'r23i1p1f1',\n",
       "       'r23i1p2f1', 'r24i1p1f1', 'r24i1p2f1', 'r25i1p1f1', 'r25i1p2f1',\n",
       "       'r26i1p2f1', 'r27i1p2f1', 'r28i1p2f1', 'r29i1p2f1', 'r2i1p1f1',\n",
       "       'r2i1p2f1', 'r30i1p2f1', 'r31i1p2f1', 'r32i1p2f1', 'r33i1p2f1',\n",
       "       'r34i1p2f1', 'r35i1p2f1', 'r36i1p2f1', 'r37i1p2f1', 'r38i1p2f1',\n",
       "       'r39i1p2f1', 'r3i1p1f1', 'r3i1p2f1', 'r40i1p2f1', 'r4i1p1f1',\n",
       "       'r4i1p2f1', 'r5i1p1f1', 'r5i1p2f1', 'r6i1p1f1', 'r6i1p2f1',\n",
       "       'r7i1p1f1', 'r7i1p2f1', 'r8i1p1f1', 'r8i1p2f1', 'r9i1p1f1',\n",
       "       'r9i1p2f1'], dtype=object)"
      ]
     },
     "execution_count": 11,
     "metadata": {},
     "output_type": "execute_result"
    }
   ],
   "source": [
    "test = pd.read_csv('./data/model/CanESM5_pr.csv')\n",
    "variants = test.dropna()['variant_label'].to_numpy()\n",
    "variants"
   ]
  },
  {
   "cell_type": "code",
   "execution_count": 12,
   "id": "5003604e",
   "metadata": {},
   "outputs": [
    {
     "name": "stdout",
     "output_type": "stream",
     "text": [
      "Completed CanESM5->r10i1p1f1\n",
      "Completed CanESM5->r10i1p2f1\n",
      "Completed CanESM5->r11i1p1f1\n",
      "Completed CanESM5->r11i1p2f1\n",
      "Completed CanESM5->r12i1p1f1\n",
      "Completed CanESM5->r12i1p2f1\n",
      "Completed CanESM5->r13i1p1f1\n",
      "Completed CanESM5->r13i1p2f1\n",
      "Completed CanESM5->r14i1p1f1\n",
      "Completed CanESM5->r14i1p2f1\n",
      "Completed CanESM5->r15i1p1f1\n",
      "Completed CanESM5->r15i1p2f1\n",
      "Completed CanESM5->r16i1p1f1\n",
      "Completed CanESM5->r16i1p2f1\n",
      "Completed CanESM5->r17i1p1f1\n",
      "Completed CanESM5->r17i1p2f1\n",
      "Completed CanESM5->r18i1p1f1\n",
      "Completed CanESM5->r18i1p2f1\n",
      "Completed CanESM5->r19i1p1f1\n",
      "Completed CanESM5->r19i1p2f1\n",
      "Completed CanESM5->r1i1p1f1\n",
      "Completed CanESM5->r1i1p1f1\n",
      "Completed CanESM5->r1i1p2f1\n",
      "Completed CanESM5->r20i1p1f1\n",
      "Completed CanESM5->r20i1p2f1\n",
      "Completed CanESM5->r21i1p1f1\n",
      "Completed CanESM5->r21i1p2f1\n",
      "Completed CanESM5->r22i1p1f1\n",
      "Completed CanESM5->r22i1p2f1\n",
      "Completed CanESM5->r23i1p1f1\n",
      "Completed CanESM5->r23i1p2f1\n",
      "Completed CanESM5->r24i1p1f1\n",
      "Completed CanESM5->r24i1p2f1\n",
      "Completed CanESM5->r25i1p1f1\n",
      "Completed CanESM5->r25i1p2f1\n",
      "Completed CanESM5->r26i1p2f1\n",
      "Completed CanESM5->r27i1p2f1\n",
      "Completed CanESM5->r28i1p2f1\n",
      "Completed CanESM5->r29i1p2f1\n",
      "Completed CanESM5->r2i1p1f1\n",
      "Completed CanESM5->r2i1p2f1\n",
      "Completed CanESM5->r30i1p2f1\n",
      "Completed CanESM5->r31i1p2f1\n",
      "Completed CanESM5->r32i1p2f1\n",
      "Completed CanESM5->r33i1p2f1\n",
      "Completed CanESM5->r34i1p2f1\n",
      "Completed CanESM5->r35i1p2f1\n",
      "Completed CanESM5->r36i1p2f1\n",
      "Completed CanESM5->r37i1p2f1\n",
      "Completed CanESM5->r38i1p2f1\n",
      "Completed CanESM5->r39i1p2f1\n",
      "Completed CanESM5->r3i1p1f1\n",
      "Completed CanESM5->r3i1p2f1\n",
      "Completed CanESM5->r40i1p2f1\n",
      "Completed CanESM5->r4i1p1f1\n",
      "Completed CanESM5->r4i1p2f1\n",
      "Completed CanESM5->r5i1p1f1\n",
      "Completed CanESM5->r5i1p2f1\n",
      "Completed CanESM5->r6i1p1f1\n",
      "Completed CanESM5->r6i1p2f1\n",
      "Completed CanESM5->r7i1p1f1\n",
      "Completed CanESM5->r7i1p2f1\n",
      "Completed CanESM5->r8i1p1f1\n",
      "Completed CanESM5->r8i1p2f1\n",
      "Completed CanESM5->r9i1p1f1\n",
      "Completed CanESM5->r9i1p2f1\n"
     ]
    }
   ],
   "source": [
    "preproc_le(mod_name='CanESM5', variant_list=variants)"
   ]
  },
  {
   "cell_type": "code",
   "execution_count": null,
   "id": "4a790d9e",
   "metadata": {},
   "outputs": [],
   "source": [
    "# NOTE : models rejected for analysis\n",
    "## CIESM not enough tos data -> 1368, needed 1380 timesteps\n",
    "## E3SM-1-0 not enough tos data -> 1200, needed 1380 timesteps\n",
    "## KIOST-ESM doesn't have pr data\n",
    "## FIO-ESM and MCM-UA-1-0 have problems in units of pr data\n",
    "\n",
    "# So total now is 50 models"
   ]
  }
 ],
 "metadata": {
  "kernelspec": {
   "display_name": "Python 3 (ipykernel)",
   "language": "python",
   "name": "python3"
  },
  "language_info": {
   "codemirror_mode": {
    "name": "ipython",
    "version": 3
   },
   "file_extension": ".py",
   "mimetype": "text/x-python",
   "name": "python",
   "nbconvert_exporter": "python",
   "pygments_lexer": "ipython3",
   "version": "3.9.15"
  }
 },
 "nbformat": 4,
 "nbformat_minor": 5
}
